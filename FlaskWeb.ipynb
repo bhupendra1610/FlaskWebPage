{
 "cells": [
  {
   "cell_type": "code",
   "execution_count": 1,
   "id": "9da5139f",
   "metadata": {},
   "outputs": [],
   "source": [
    "import os\n",
    "os.mkdir('temp1')\n"
   ]
  },
  {
   "cell_type": "code",
   "execution_count": 75,
   "id": "5abaf878",
   "metadata": {},
   "outputs": [],
   "source": [
    "var = '''\n",
    "<html>\n",
    "<body>\n",
    "<h1 style= \"text-align:center\">WELCOME TO FLASK IMPLEMENTATION</h1>\n",
    "<h4 >Login page for flask implementation </h4>\n",
    "{% block content %}\n",
    "<p><a href = \"{{url_for ('login')}}\">Login</p>\n",
    "\n",
    "{% endblock %}\n",
    "\n",
    "</body>\n",
    "</html>\n",
    "'''\n",
    "\n",
    "file = open(\"temp1/home.html\",\"w\")\n",
    "file.write(var)\n",
    "file.close()"
   ]
  },
  {
   "cell_type": "code",
   "execution_count": 76,
   "id": "7ac6060a",
   "metadata": {},
   "outputs": [],
   "source": [
    "var = '''\n",
    "{% extends \"home.html\" %}\n",
    "\n",
    "{% block content %}\n",
    "<form action = {{url_for ('database')}}  method =\"POST\">\n",
    "<table>\n",
    "<tr>\n",
    "<td>\n",
    "<label for = \"name\"> Name </label>\n",
    "</td>\n",
    "<td>\n",
    "<input type = \"text\" name = \"uname\">\n",
    "</td>\n",
    "</tr>\n",
    "\n",
    "<tr>\n",
    "<td>\n",
    "<label for = \"password\"> Password </label>\n",
    "</td>\n",
    "<td>\n",
    "<input type = \"password\" name = \"upass\">\n",
    "</td>\n",
    "</tr>\n",
    "<tr>\n",
    "<td>\n",
    "<button type = \"submit\">Submit</button>\n",
    "</td>\n",
    "</tr>\n",
    "</table>\n",
    "\n",
    "</form>\n",
    "\n",
    "{% endblock %}\n",
    "'''\n",
    "\n",
    "file = open(\"temp1/login.html\",\"w\")\n",
    "file.write(var)\n",
    "file.close()"
   ]
  },
  {
   "cell_type": "code",
   "execution_count": 77,
   "id": "e88efc42",
   "metadata": {},
   "outputs": [],
   "source": [
    "var = '''\n",
    "{%extends \"home.html\" %}\n",
    "\n",
    "{% block content %}\n",
    "<table>\n",
    "<tr>\n",
    "<td>\n",
    "<label for = \"name\">Name: {{Name}} </label>\n",
    "</td>\n",
    "</tr>\n",
    "<tr>\n",
    "<td>\n",
    "<label for = \"password\">Password: {{Password}} </label>\n",
    "</td>\n",
    "</tr>\n",
    "</table>\n",
    "<p> <a href =\"{{url_for('home')}}\">Go Back to Main Page</p>\n",
    "{%endblock%}\n",
    "'''\n",
    "\n",
    "file = open(\"temp1/database.html\",\"w\")\n",
    "file.write(var)\n",
    "file.close()"
   ]
  },
  {
   "cell_type": "code",
   "execution_count": null,
   "id": "f810f08c",
   "metadata": {},
   "outputs": [
    {
     "name": "stdout",
     "output_type": "stream",
     "text": [
      " * Serving Flask app '__main__' (lazy loading)\n",
      " * Environment: production\n",
      "\u001b[31m   WARNING: This is a development server. Do not use it in a production deployment.\u001b[0m\n",
      "\u001b[2m   Use a production WSGI server instead.\u001b[0m\n",
      " * Debug mode: off\n"
     ]
    },
    {
     "name": "stderr",
     "output_type": "stream",
     "text": [
      " * Running on http://127.0.0.1:5000/ (Press CTRL+C to quit)\n",
      "127.0.0.1 - - [14/Jun/2023 18:36:19] \"GET / HTTP/1.1\" 200 -\n",
      "127.0.0.1 - - [14/Jun/2023 18:36:24] \"GET /login HTTP/1.1\" 200 -\n",
      "127.0.0.1 - - [14/Jun/2023 18:36:29] \"POST /database HTTP/1.1\" 200 -\n",
      "127.0.0.1 - - [14/Jun/2023 18:36:30] \"GET / HTTP/1.1\" 200 -\n",
      "127.0.0.1 - - [14/Jun/2023 18:36:37] \"GET / HTTP/1.1\" 200 -\n",
      "127.0.0.1 - - [14/Jun/2023 18:36:40] \"GET /login HTTP/1.1\" 200 -\n",
      "127.0.0.1 - - [14/Jun/2023 18:36:42] \"POST /database HTTP/1.1\" 200 -\n",
      "127.0.0.1 - - [14/Jun/2023 18:36:43] \"GET / HTTP/1.1\" 200 -\n"
     ]
    }
   ],
   "source": [
    "from flask import Flask,render_template,request\n",
    "app = Flask(__name__,template_folder = 'temp1')\n",
    "\n",
    "@app.route('/')\n",
    "def home():\n",
    "    return render_template('home.html')\n",
    "@app.route('/login')\n",
    "def login():\n",
    "    return render_template('login.html')\n",
    "@app.route('/database',methods = ['GET','POST'])\n",
    "\n",
    "\n",
    "def database():\n",
    "    if request.method == \"POST\":\n",
    "        name = request.form.get('uname')\n",
    "        password = request.form.get('upass')\n",
    "        return render_template('database.html', Name = name, Password =password)\n",
    "if __name__ == '__main__':\n",
    "    app.run()"
   ]
  },
  {
   "cell_type": "code",
   "execution_count": null,
   "id": "20785639",
   "metadata": {},
   "outputs": [],
   "source": []
  }
 ],
 "metadata": {
  "kernelspec": {
   "display_name": "Python 3",
   "language": "python",
   "name": "python3"
  },
  "language_info": {
   "codemirror_mode": {
    "name": "ipython",
    "version": 3
   },
   "file_extension": ".py",
   "mimetype": "text/x-python",
   "name": "python",
   "nbconvert_exporter": "python",
   "pygments_lexer": "ipython3",
   "version": "3.6.6"
  }
 },
 "nbformat": 4,
 "nbformat_minor": 5
}
